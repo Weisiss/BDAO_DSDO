{
  "nbformat": 4,
  "nbformat_minor": 0,
  "metadata": {
    "colab": {
      "provenance": [],
      "toc_visible": true,
      "include_colab_link": true
    },
    "kernelspec": {
      "name": "python3",
      "display_name": "Python 3"
    },
    "language_info": {
      "name": "python"
    }
  },
  "cells": [
    {
      "cell_type": "markdown",
      "metadata": {
        "id": "view-in-github",
        "colab_type": "text"
      },
      "source": [
        "<a href=\"https://colab.research.google.com/github/Weisiss/BDAO_DSDO/blob/main/BDAO_IMA_Cloud_Project.ipynb\" target=\"_parent\"><img src=\"https://colab.research.google.com/assets/colab-badge.svg\" alt=\"Open In Colab\"/></a>"
      ]
    },
    {
      "cell_type": "markdown",
      "source": [
        "# **Authentication**\n",
        "\n",
        "Everytime before you make connection to Google Cloud via API, you need to run the below code to grant access to Google Cloud services."
      ],
      "metadata": {
        "id": "eL8M-v6E3uR6"
      }
    },
    {
      "cell_type": "code",
      "execution_count": null,
      "metadata": {
        "id": "d_3s_Jpt36yy"
      },
      "outputs": [],
      "source": [
        "# Authenticate and access Google Cloud services\n",
        "from google.colab import auth\n",
        "auth.authenticate_user()"
      ]
    },
    {
      "cell_type": "markdown",
      "source": [
        "# **Load data into BigQuery**\n",
        "\n",
        "The following codes help you load data from bucket to your BigQuery."
      ],
      "metadata": {
        "id": "folUYdHz3lm1"
      }
    },
    {
      "cell_type": "markdown",
      "source": [
        "### Step 0: (Optional) Create a new project in Google Cloud"
      ],
      "metadata": {
        "id": "IX-G9QYK5cbz"
      }
    },
    {
      "cell_type": "markdown",
      "source": [
        "If you want an independent project to handle the data and analysis, you can create a new project in your Google Cloud.\n",
        "![picture](https://drive.google.com/uc?id=18bayQbOjHw8Uq-QkMwYhupi8FPtT9Dmm)\n",
        "\n",
        "Of course, you can continue using the existed project if you wish.\n"
      ],
      "metadata": {
        "id": "3v7n31MY5lVe"
      }
    },
    {
      "cell_type": "markdown",
      "source": [
        "### Step 1: Create a new dataset in your BigQuery to store your project data"
      ],
      "metadata": {
        "id": "GFsVOXMv4d4a"
      }
    },
    {
      "cell_type": "code",
      "source": [
        "# Import the necessary libraries\n",
        "from google.cloud import storage\n",
        "from google.cloud import bigquery"
      ],
      "metadata": {
        "id": "5oiDGLy64hMq"
      },
      "execution_count": null,
      "outputs": []
    },
    {
      "cell_type": "code",
      "source": [
        "def create_dataset(project_id, dataset_id, location=\"US\"):\n",
        "    client = bigquery.Client(project=project_id)\n",
        "    dataset_ref = bigquery.DatasetReference(project_id, dataset_id)\n",
        "    dataset = bigquery.Dataset(dataset_ref)\n",
        "    dataset.location = location\n",
        "\n",
        "    created_dataset = client.create_dataset(dataset, timeout=30)  # Waits 30 seconds\n",
        "    print(\"Dataset {} created.\".format(created_dataset.dataset_id))\n",
        "\n",
        "# Usage\n",
        "create_dataset('big-synthesizer-421522', 'restaurant_dataset') # Replace 'your-project-id' with your Google Cloud project ID and 'your-new-datatset-name' with your desired dataset name"
      ],
      "metadata": {
        "id": "Z_Bwo0KG4otz",
        "colab": {
          "base_uri": "https://localhost:8080/"
        },
        "outputId": "05b77e25-f1c3-4b2f-f0f8-a3818cc5e412"
      },
      "execution_count": null,
      "outputs": [
        {
          "output_type": "stream",
          "name": "stdout",
          "text": [
            "Dataset restaurant_dataset created.\n"
          ]
        }
      ]
    },
    {
      "cell_type": "markdown",
      "source": [
        "### Step 2: Load data into the dataset you just created in BigQuery"
      ],
      "metadata": {
        "id": "JmpK-Uvb5PcF"
      }
    },
    {
      "cell_type": "code",
      "source": [
        "# Load the restaurant data into BigQuery\n",
        "# Replace 'your-project-id' with your Google Cloud project ID\n",
        "# Replace 'your-dataset-name' with your dataset name\n",
        "# (optional) you could change the table name with a new name but not a problem not to change\n",
        "project_id = \"big-synthesizer-421522\"\n",
        "dataset_name = \"restaurant_dataset\"\n",
        "table_name = \"restaurant_data\"\n",
        "bucket_name = \"yelp-data-bdao\" # don't make changes here\n",
        "blob_name = \"restaurant_data.csv\" # don't make changes here\n",
        "\n",
        "bigquery_client = bigquery.Client(project=project_id)\n",
        "\n",
        "dataset_ref = bigquery_client.dataset(dataset_name)\n",
        "table_ref = dataset_ref.table(table_name)\n",
        "\n",
        "job_config = bigquery.LoadJobConfig()\n",
        "job_config.autodetect = True\n",
        "job_config.source_format = bigquery.SourceFormat.CSV\n",
        "\n",
        "load_job = bigquery_client.load_table_from_uri(\n",
        "    f\"gs://{bucket_name}/{blob_name}\",\n",
        "    table_ref,\n",
        "    job_config=job_config\n",
        ")\n",
        "\n",
        "load_job.result()\n",
        "\n",
        "print(f\"Data loaded into BigQuery: {project_id}.{dataset_name}.{table_name}\")"
      ],
      "metadata": {
        "id": "GmTKlZ5t5Ar0",
        "colab": {
          "base_uri": "https://localhost:8080/"
        },
        "outputId": "0de5af17-7a43-475c-e5ff-51bddcedb063"
      },
      "execution_count": null,
      "outputs": [
        {
          "output_type": "stream",
          "name": "stdout",
          "text": [
            "Data loaded into BigQuery: big-synthesizer-421522.restaurant_dataset.restaurant_data\n"
          ]
        }
      ]
    },
    {
      "cell_type": "code",
      "source": [
        "# Load the restaurant tips data into BigQuery\n",
        "# Replace 'your-project-id' with your Google Cloud project ID\n",
        "# Replace 'your-dataset-name' with your dataset name\n",
        "# (optional) you could change the table name with a new name but not a problem not to change\n",
        "project_id = \"big-synthesizer-421522\"\n",
        "dataset_name = \"restaurant_dataset\"\n",
        "table_name = \"restaurant_tips\"\n",
        "bucket_name = \"yelp-data-bdao\" # don't make changes here\n",
        "blob_name = \"restaurant_tips.csv\" # don't make changes here\n",
        "\n",
        "bigquery_client = bigquery.Client(project=project_id)\n",
        "\n",
        "dataset_ref = bigquery_client.dataset(dataset_name)\n",
        "table_ref = dataset_ref.table(table_name)\n",
        "\n",
        "job_config = bigquery.LoadJobConfig()\n",
        "job_config.autodetect = True\n",
        "job_config.source_format = bigquery.SourceFormat.CSV\n",
        "\n",
        "load_job = bigquery_client.load_table_from_uri(\n",
        "    f\"gs://{bucket_name}/{blob_name}\",\n",
        "    table_ref,\n",
        "    job_config=job_config\n",
        ")\n",
        "\n",
        "load_job.result()\n",
        "\n",
        "print(f\"Data loaded into BigQuery: {project_id}.{dataset_name}.{table_name}\")"
      ],
      "metadata": {
        "id": "GaGXAFF880A8",
        "colab": {
          "base_uri": "https://localhost:8080/"
        },
        "outputId": "fea12331-d797-4797-a028-c5f48115b03a"
      },
      "execution_count": null,
      "outputs": [
        {
          "output_type": "stream",
          "name": "stdout",
          "text": [
            "Data loaded into BigQuery: big-synthesizer-421522.restaurant_dataset.restaurant_tips\n"
          ]
        }
      ]
    },
    {
      "cell_type": "code",
      "source": [
        "# Load the data into BigQuery\n",
        "# Replace 'your-project-id' with your Google Cloud project ID\n",
        "# Replace 'your-dataset-name' with your dataset name\n",
        "# (optional) you could change the table name with a new name but not a problem not to change\n",
        "project_id = \"big-synthesizer-421522\"\n",
        "dataset_name = \"restaurant_dataset\"\n",
        "table_name = \"restaurant_checkin\"\n",
        "bucket_name = \"yelp-data-bdao\" # don't make changes here\n",
        "blob_name = \"restaurant_checkin.csv\" # don't make changes here\n",
        "\n",
        "bigquery_client = bigquery.Client(project=project_id)\n",
        "\n",
        "dataset_ref = bigquery_client.dataset(dataset_name)\n",
        "table_ref = dataset_ref.table(table_name)\n",
        "\n",
        "job_config = bigquery.LoadJobConfig()\n",
        "job_config.autodetect = True\n",
        "job_config.source_format = bigquery.SourceFormat.CSV\n",
        "\n",
        "load_job = bigquery_client.load_table_from_uri(\n",
        "    f\"gs://{bucket_name}/{blob_name}\",\n",
        "    table_ref,\n",
        "    job_config=job_config\n",
        ")\n",
        "\n",
        "load_job.result()\n",
        "\n",
        "print(f\"Data loaded into BigQuery: {project_id}.{dataset_name}.{table_name}\")"
      ],
      "metadata": {
        "id": "-yFsyrLd9Kpw",
        "colab": {
          "base_uri": "https://localhost:8080/"
        },
        "outputId": "a533cd0a-7a5c-4779-8298-22fc9f5115b9"
      },
      "execution_count": null,
      "outputs": [
        {
          "output_type": "stream",
          "name": "stdout",
          "text": [
            "Data loaded into BigQuery: big-synthesizer-421522.restaurant_dataset.restaurant_checkin\n"
          ]
        }
      ]
    },
    {
      "cell_type": "markdown",
      "source": [
        "Until here, you have successfully loaded all data into your data warehouse (BigQuery) in Google Cloud."
      ],
      "metadata": {
        "id": "uuqQh-s96ysW"
      }
    },
    {
      "cell_type": "markdown",
      "source": [
        "# **Query data from BigQuery and do analysis**\n",
        "\n",
        "Now that the data is stored in BigQuery, you can make connection to BigQuery and extract data you want."
      ],
      "metadata": {
        "id": "DLNhUCIt7DmH"
      }
    },
    {
      "cell_type": "markdown",
      "source": [
        "### Query data from restaurant data file (examples)"
      ],
      "metadata": {
        "id": "u5ZYbDQN8Q4-"
      }
    },
    {
      "cell_type": "code",
      "source": [
        "# Import the necessary libraries\n",
        "from google.cloud import storage\n",
        "from google.cloud import bigquery\n",
        "\n",
        "# First make connection to BigQuery\n",
        "# Replace 'your-project-id' with your Google Cloud project ID\n",
        "# Replace 'your-dataset-name' with your dataset name\n",
        "project_id = \"big-synthesizer-421522\"\n",
        "dataset_name = \"restaurant_dataset\"\n",
        "table_name = \"restaurant_data\" # if you make changes previously, then here you need to make according change\n",
        "\n",
        "bigquery_client = bigquery.Client(project=project_id)"
      ],
      "metadata": {
        "id": "wnfSRLf_MBN-"
      },
      "execution_count": null,
      "outputs": []
    },
    {
      "cell_type": "code",
      "source": [
        "# Query all data from the table\n",
        "query = f\"\"\"\n",
        "    SELECT *\n",
        "    FROM `{project_id}.{dataset_name}.{table_name}`\n",
        "\"\"\"\n",
        "\n",
        "query_job = bigquery_client.query(query)\n",
        "results = query_job.result()\n",
        "\n",
        "restaurant_df = query_job.to_dataframe()\n",
        "restaurant_df.head()"
      ],
      "metadata": {
        "id": "kfXclf2n6Zr_"
      },
      "execution_count": null,
      "outputs": []
    },
    {
      "cell_type": "code",
      "source": [
        "# Query data from selected columns from the table\n",
        "query = f\"\"\"\n",
        "    SELECT business_id, name, address, city, state, stars, review_count, is_open, categories\n",
        "    FROM `{project_id}.{dataset_name}.{table_name}`\n",
        "\"\"\"\n",
        "\n",
        "query_job = bigquery_client.query(query)\n",
        "results = query_job.result()\n",
        "\n",
        "restaurant_df = query_job.to_dataframe()\n",
        "restaurant_df.head()"
      ],
      "metadata": {
        "id": "vhRhqq768glk",
        "colab": {
          "base_uri": "https://localhost:8080/",
          "height": 206
        },
        "outputId": "9e0deb97-c9a5-4fbc-97bd-bcfc2cd991fc"
      },
      "execution_count": null,
      "outputs": [
        {
          "output_type": "execute_result",
          "data": {
            "text/plain": [
              "              business_id                    name              address  \\\n",
              "0  bw90rjFL02A_8rVE34m5Lg      Cosmetic Solutions    1010 Lula Lula Dr   \n",
              "1  em474WuTw7-OkhPfX4EohA                    IHOP  702 Blowing Rock Rd   \n",
              "2  gCF0QQWzI9lDouhLfTbYCA       MudMan Food Truck                 None   \n",
              "3  1H9WYGFJ4AFwXq7WCOOMtg      Two Elk Restaurant     12000 Skyline Dr   \n",
              "4  IvQs2hhXKZ4NgZhVZ5jjjQ  Pumpernickles Catering   95a Mount Pleasant   \n",
              "\n",
              "        city state  stars  review_count  is_open  \\\n",
              "0  Lula Lula    HI    3.5            17        1   \n",
              "1      Boone    NC    2.0            29        0   \n",
              "2  Kalispell    MT    5.0             6        0   \n",
              "3       Vail    CO    3.5            12        0   \n",
              "4  Liverpool   XMS    4.0             5        1   \n",
              "\n",
              "                                          categories  \n",
              "0  Cosmetic Surgeons, Pizza, Doctors, Beauty & Sp...  \n",
              "1  Breakfast & Brunch, Coffee & Tea, Food, Americ...  \n",
              "2  Restaurants, American (Traditional), Food Truc...  \n",
              "3                               Buffets, Restaurants  \n",
              "4  Caterers, Breakfast & Brunch, Convenience Stor...  "
            ],
            "text/html": [
              "\n",
              "  <div id=\"df-67307cfd-f524-46d6-86b2-e8f054093aa7\" class=\"colab-df-container\">\n",
              "    <div>\n",
              "<style scoped>\n",
              "    .dataframe tbody tr th:only-of-type {\n",
              "        vertical-align: middle;\n",
              "    }\n",
              "\n",
              "    .dataframe tbody tr th {\n",
              "        vertical-align: top;\n",
              "    }\n",
              "\n",
              "    .dataframe thead th {\n",
              "        text-align: right;\n",
              "    }\n",
              "</style>\n",
              "<table border=\"1\" class=\"dataframe\">\n",
              "  <thead>\n",
              "    <tr style=\"text-align: right;\">\n",
              "      <th></th>\n",
              "      <th>business_id</th>\n",
              "      <th>name</th>\n",
              "      <th>address</th>\n",
              "      <th>city</th>\n",
              "      <th>state</th>\n",
              "      <th>stars</th>\n",
              "      <th>review_count</th>\n",
              "      <th>is_open</th>\n",
              "      <th>categories</th>\n",
              "    </tr>\n",
              "  </thead>\n",
              "  <tbody>\n",
              "    <tr>\n",
              "      <th>0</th>\n",
              "      <td>bw90rjFL02A_8rVE34m5Lg</td>\n",
              "      <td>Cosmetic Solutions</td>\n",
              "      <td>1010 Lula Lula Dr</td>\n",
              "      <td>Lula Lula</td>\n",
              "      <td>HI</td>\n",
              "      <td>3.5</td>\n",
              "      <td>17</td>\n",
              "      <td>1</td>\n",
              "      <td>Cosmetic Surgeons, Pizza, Doctors, Beauty &amp; Sp...</td>\n",
              "    </tr>\n",
              "    <tr>\n",
              "      <th>1</th>\n",
              "      <td>em474WuTw7-OkhPfX4EohA</td>\n",
              "      <td>IHOP</td>\n",
              "      <td>702 Blowing Rock Rd</td>\n",
              "      <td>Boone</td>\n",
              "      <td>NC</td>\n",
              "      <td>2.0</td>\n",
              "      <td>29</td>\n",
              "      <td>0</td>\n",
              "      <td>Breakfast &amp; Brunch, Coffee &amp; Tea, Food, Americ...</td>\n",
              "    </tr>\n",
              "    <tr>\n",
              "      <th>2</th>\n",
              "      <td>gCF0QQWzI9lDouhLfTbYCA</td>\n",
              "      <td>MudMan Food Truck</td>\n",
              "      <td>None</td>\n",
              "      <td>Kalispell</td>\n",
              "      <td>MT</td>\n",
              "      <td>5.0</td>\n",
              "      <td>6</td>\n",
              "      <td>0</td>\n",
              "      <td>Restaurants, American (Traditional), Food Truc...</td>\n",
              "    </tr>\n",
              "    <tr>\n",
              "      <th>3</th>\n",
              "      <td>1H9WYGFJ4AFwXq7WCOOMtg</td>\n",
              "      <td>Two Elk Restaurant</td>\n",
              "      <td>12000 Skyline Dr</td>\n",
              "      <td>Vail</td>\n",
              "      <td>CO</td>\n",
              "      <td>3.5</td>\n",
              "      <td>12</td>\n",
              "      <td>0</td>\n",
              "      <td>Buffets, Restaurants</td>\n",
              "    </tr>\n",
              "    <tr>\n",
              "      <th>4</th>\n",
              "      <td>IvQs2hhXKZ4NgZhVZ5jjjQ</td>\n",
              "      <td>Pumpernickles Catering</td>\n",
              "      <td>95a Mount Pleasant</td>\n",
              "      <td>Liverpool</td>\n",
              "      <td>XMS</td>\n",
              "      <td>4.0</td>\n",
              "      <td>5</td>\n",
              "      <td>1</td>\n",
              "      <td>Caterers, Breakfast &amp; Brunch, Convenience Stor...</td>\n",
              "    </tr>\n",
              "  </tbody>\n",
              "</table>\n",
              "</div>\n",
              "    <div class=\"colab-df-buttons\">\n",
              "\n",
              "  <div class=\"colab-df-container\">\n",
              "    <button class=\"colab-df-convert\" onclick=\"convertToInteractive('df-67307cfd-f524-46d6-86b2-e8f054093aa7')\"\n",
              "            title=\"Convert this dataframe to an interactive table.\"\n",
              "            style=\"display:none;\">\n",
              "\n",
              "  <svg xmlns=\"http://www.w3.org/2000/svg\" height=\"24px\" viewBox=\"0 -960 960 960\">\n",
              "    <path d=\"M120-120v-720h720v720H120Zm60-500h600v-160H180v160Zm220 220h160v-160H400v160Zm0 220h160v-160H400v160ZM180-400h160v-160H180v160Zm440 0h160v-160H620v160ZM180-180h160v-160H180v160Zm440 0h160v-160H620v160Z\"/>\n",
              "  </svg>\n",
              "    </button>\n",
              "\n",
              "  <style>\n",
              "    .colab-df-container {\n",
              "      display:flex;\n",
              "      gap: 12px;\n",
              "    }\n",
              "\n",
              "    .colab-df-convert {\n",
              "      background-color: #E8F0FE;\n",
              "      border: none;\n",
              "      border-radius: 50%;\n",
              "      cursor: pointer;\n",
              "      display: none;\n",
              "      fill: #1967D2;\n",
              "      height: 32px;\n",
              "      padding: 0 0 0 0;\n",
              "      width: 32px;\n",
              "    }\n",
              "\n",
              "    .colab-df-convert:hover {\n",
              "      background-color: #E2EBFA;\n",
              "      box-shadow: 0px 1px 2px rgba(60, 64, 67, 0.3), 0px 1px 3px 1px rgba(60, 64, 67, 0.15);\n",
              "      fill: #174EA6;\n",
              "    }\n",
              "\n",
              "    .colab-df-buttons div {\n",
              "      margin-bottom: 4px;\n",
              "    }\n",
              "\n",
              "    [theme=dark] .colab-df-convert {\n",
              "      background-color: #3B4455;\n",
              "      fill: #D2E3FC;\n",
              "    }\n",
              "\n",
              "    [theme=dark] .colab-df-convert:hover {\n",
              "      background-color: #434B5C;\n",
              "      box-shadow: 0px 1px 3px 1px rgba(0, 0, 0, 0.15);\n",
              "      filter: drop-shadow(0px 1px 2px rgba(0, 0, 0, 0.3));\n",
              "      fill: #FFFFFF;\n",
              "    }\n",
              "  </style>\n",
              "\n",
              "    <script>\n",
              "      const buttonEl =\n",
              "        document.querySelector('#df-67307cfd-f524-46d6-86b2-e8f054093aa7 button.colab-df-convert');\n",
              "      buttonEl.style.display =\n",
              "        google.colab.kernel.accessAllowed ? 'block' : 'none';\n",
              "\n",
              "      async function convertToInteractive(key) {\n",
              "        const element = document.querySelector('#df-67307cfd-f524-46d6-86b2-e8f054093aa7');\n",
              "        const dataTable =\n",
              "          await google.colab.kernel.invokeFunction('convertToInteractive',\n",
              "                                                    [key], {});\n",
              "        if (!dataTable) return;\n",
              "\n",
              "        const docLinkHtml = 'Like what you see? Visit the ' +\n",
              "          '<a target=\"_blank\" href=https://colab.research.google.com/notebooks/data_table.ipynb>data table notebook</a>'\n",
              "          + ' to learn more about interactive tables.';\n",
              "        element.innerHTML = '';\n",
              "        dataTable['output_type'] = 'display_data';\n",
              "        await google.colab.output.renderOutput(dataTable, element);\n",
              "        const docLink = document.createElement('div');\n",
              "        docLink.innerHTML = docLinkHtml;\n",
              "        element.appendChild(docLink);\n",
              "      }\n",
              "    </script>\n",
              "  </div>\n",
              "\n",
              "\n",
              "<div id=\"df-483fbfa7-a607-44a1-991a-d04090eb49c4\">\n",
              "  <button class=\"colab-df-quickchart\" onclick=\"quickchart('df-483fbfa7-a607-44a1-991a-d04090eb49c4')\"\n",
              "            title=\"Suggest charts\"\n",
              "            style=\"display:none;\">\n",
              "\n",
              "<svg xmlns=\"http://www.w3.org/2000/svg\" height=\"24px\"viewBox=\"0 0 24 24\"\n",
              "     width=\"24px\">\n",
              "    <g>\n",
              "        <path d=\"M19 3H5c-1.1 0-2 .9-2 2v14c0 1.1.9 2 2 2h14c1.1 0 2-.9 2-2V5c0-1.1-.9-2-2-2zM9 17H7v-7h2v7zm4 0h-2V7h2v10zm4 0h-2v-4h2v4z\"/>\n",
              "    </g>\n",
              "</svg>\n",
              "  </button>\n",
              "\n",
              "<style>\n",
              "  .colab-df-quickchart {\n",
              "      --bg-color: #E8F0FE;\n",
              "      --fill-color: #1967D2;\n",
              "      --hover-bg-color: #E2EBFA;\n",
              "      --hover-fill-color: #174EA6;\n",
              "      --disabled-fill-color: #AAA;\n",
              "      --disabled-bg-color: #DDD;\n",
              "  }\n",
              "\n",
              "  [theme=dark] .colab-df-quickchart {\n",
              "      --bg-color: #3B4455;\n",
              "      --fill-color: #D2E3FC;\n",
              "      --hover-bg-color: #434B5C;\n",
              "      --hover-fill-color: #FFFFFF;\n",
              "      --disabled-bg-color: #3B4455;\n",
              "      --disabled-fill-color: #666;\n",
              "  }\n",
              "\n",
              "  .colab-df-quickchart {\n",
              "    background-color: var(--bg-color);\n",
              "    border: none;\n",
              "    border-radius: 50%;\n",
              "    cursor: pointer;\n",
              "    display: none;\n",
              "    fill: var(--fill-color);\n",
              "    height: 32px;\n",
              "    padding: 0;\n",
              "    width: 32px;\n",
              "  }\n",
              "\n",
              "  .colab-df-quickchart:hover {\n",
              "    background-color: var(--hover-bg-color);\n",
              "    box-shadow: 0 1px 2px rgba(60, 64, 67, 0.3), 0 1px 3px 1px rgba(60, 64, 67, 0.15);\n",
              "    fill: var(--button-hover-fill-color);\n",
              "  }\n",
              "\n",
              "  .colab-df-quickchart-complete:disabled,\n",
              "  .colab-df-quickchart-complete:disabled:hover {\n",
              "    background-color: var(--disabled-bg-color);\n",
              "    fill: var(--disabled-fill-color);\n",
              "    box-shadow: none;\n",
              "  }\n",
              "\n",
              "  .colab-df-spinner {\n",
              "    border: 2px solid var(--fill-color);\n",
              "    border-color: transparent;\n",
              "    border-bottom-color: var(--fill-color);\n",
              "    animation:\n",
              "      spin 1s steps(1) infinite;\n",
              "  }\n",
              "\n",
              "  @keyframes spin {\n",
              "    0% {\n",
              "      border-color: transparent;\n",
              "      border-bottom-color: var(--fill-color);\n",
              "      border-left-color: var(--fill-color);\n",
              "    }\n",
              "    20% {\n",
              "      border-color: transparent;\n",
              "      border-left-color: var(--fill-color);\n",
              "      border-top-color: var(--fill-color);\n",
              "    }\n",
              "    30% {\n",
              "      border-color: transparent;\n",
              "      border-left-color: var(--fill-color);\n",
              "      border-top-color: var(--fill-color);\n",
              "      border-right-color: var(--fill-color);\n",
              "    }\n",
              "    40% {\n",
              "      border-color: transparent;\n",
              "      border-right-color: var(--fill-color);\n",
              "      border-top-color: var(--fill-color);\n",
              "    }\n",
              "    60% {\n",
              "      border-color: transparent;\n",
              "      border-right-color: var(--fill-color);\n",
              "    }\n",
              "    80% {\n",
              "      border-color: transparent;\n",
              "      border-right-color: var(--fill-color);\n",
              "      border-bottom-color: var(--fill-color);\n",
              "    }\n",
              "    90% {\n",
              "      border-color: transparent;\n",
              "      border-bottom-color: var(--fill-color);\n",
              "    }\n",
              "  }\n",
              "</style>\n",
              "\n",
              "  <script>\n",
              "    async function quickchart(key) {\n",
              "      const quickchartButtonEl =\n",
              "        document.querySelector('#' + key + ' button');\n",
              "      quickchartButtonEl.disabled = true;  // To prevent multiple clicks.\n",
              "      quickchartButtonEl.classList.add('colab-df-spinner');\n",
              "      try {\n",
              "        const charts = await google.colab.kernel.invokeFunction(\n",
              "            'suggestCharts', [key], {});\n",
              "      } catch (error) {\n",
              "        console.error('Error during call to suggestCharts:', error);\n",
              "      }\n",
              "      quickchartButtonEl.classList.remove('colab-df-spinner');\n",
              "      quickchartButtonEl.classList.add('colab-df-quickchart-complete');\n",
              "    }\n",
              "    (() => {\n",
              "      let quickchartButtonEl =\n",
              "        document.querySelector('#df-483fbfa7-a607-44a1-991a-d04090eb49c4 button');\n",
              "      quickchartButtonEl.style.display =\n",
              "        google.colab.kernel.accessAllowed ? 'block' : 'none';\n",
              "    })();\n",
              "  </script>\n",
              "</div>\n",
              "    </div>\n",
              "  </div>\n"
            ],
            "application/vnd.google.colaboratory.intrinsic+json": {
              "type": "dataframe",
              "variable_name": "restaurant_df",
              "summary": "{\n  \"name\": \"restaurant_df\",\n  \"rows\": 52286,\n  \"fields\": [\n    {\n      \"column\": \"business_id\",\n      \"properties\": {\n        \"dtype\": \"string\",\n        \"num_unique_values\": 52286,\n        \"samples\": [\n          \"6NWNBToJeEzgkT1ZxeFt-Q\",\n          \"m8EZJFtJlVzTLOJvXVGxlw\",\n          \"nedGJG-guzEzTpJM0sbwwg\"\n        ],\n        \"semantic_type\": \"\",\n        \"description\": \"\"\n      }\n    },\n    {\n      \"column\": \"name\",\n      \"properties\": {\n        \"dtype\": \"string\",\n        \"num_unique_values\": 36744,\n        \"samples\": [\n          \"Piccola Italia Restaurant\",\n          \"Lemongrass Thai\",\n          \"From The Boot - Wayne\"\n        ],\n        \"semantic_type\": \"\",\n        \"description\": \"\"\n      }\n    },\n    {\n      \"column\": \"address\",\n      \"properties\": {\n        \"dtype\": \"string\",\n        \"num_unique_values\": 42079,\n        \"samples\": [\n          \"4825 E 96th St, Ste 1500\",\n          \"421 S Macdill Ave\",\n          \"9330 80 Avenue NW\"\n        ],\n        \"semantic_type\": \"\",\n        \"description\": \"\"\n      }\n    },\n    {\n      \"column\": \"city\",\n      \"properties\": {\n        \"dtype\": \"category\",\n        \"num_unique_values\": 920,\n        \"samples\": [\n          \"Chalemette\",\n          \"Breckenridge Hills\",\n          \"Medford Lakes\"\n        ],\n        \"semantic_type\": \"\",\n        \"description\": \"\"\n      }\n    },\n    {\n      \"column\": \"state\",\n      \"properties\": {\n        \"dtype\": \"category\",\n        \"num_unique_values\": 19,\n        \"samples\": [\n          \"HI\",\n          \"AB\",\n          \"IL\"\n        ],\n        \"semantic_type\": \"\",\n        \"description\": \"\"\n      }\n    },\n    {\n      \"column\": \"stars\",\n      \"properties\": {\n        \"dtype\": \"number\",\n        \"std\": 0.8295848862289544,\n        \"min\": 1.0,\n        \"max\": 5.0,\n        \"num_unique_values\": 9,\n        \"samples\": [\n          1.0,\n          2.0,\n          3.0\n        ],\n        \"semantic_type\": \"\",\n        \"description\": \"\"\n      }\n    },\n    {\n      \"column\": \"review_count\",\n      \"properties\": {\n        \"dtype\": \"Int64\",\n        \"num_unique_values\": 1132,\n        \"samples\": [\n          315,\n          1437,\n          220\n        ],\n        \"semantic_type\": \"\",\n        \"description\": \"\"\n      }\n    },\n    {\n      \"column\": \"is_open\",\n      \"properties\": {\n        \"dtype\": \"Int64\",\n        \"num_unique_values\": 2,\n        \"samples\": [\n          0,\n          1\n        ],\n        \"semantic_type\": \"\",\n        \"description\": \"\"\n      }\n    },\n    {\n      \"column\": \"categories\",\n      \"properties\": {\n        \"dtype\": \"string\",\n        \"num_unique_values\": 31698,\n        \"samples\": [\n          \"American (New), American (Traditional), Juice Bars & Smoothies, Restaurants, Chicken Wings, Middle Eastern, Food, Wraps, Food Delivery Services\",\n          \"Restaurants, Sports Bars, Bars, Mexican, Nightlife, Tacos, Wraps, American (Traditional)\"\n        ],\n        \"semantic_type\": \"\",\n        \"description\": \"\"\n      }\n    }\n  ]\n}"
            }
          },
          "metadata": {},
          "execution_count": 9
        }
      ]
    },
    {
      "cell_type": "code",
      "source": [
        "# Query data based on condition from the table\n",
        "query = f\"\"\"\n",
        "    SELECT *\n",
        "    FROM `{project_id}.{dataset_name}.{table_name}`\n",
        "    WHERE state = 'PA'\n",
        "\"\"\"\n",
        "\n",
        "query_job = bigquery_client.query(query)\n",
        "results = query_job.result()\n",
        "\n",
        "restaurant_df = query_job.to_dataframe()\n",
        "restaurant_df.head()"
      ],
      "metadata": {
        "id": "QWp4TgaY9S1d"
      },
      "execution_count": null,
      "outputs": []
    },
    {
      "cell_type": "markdown",
      "source": [
        "### Query data from restaurant checkin data file (examples)"
      ],
      "metadata": {
        "id": "zcD1vcNQ_Y99"
      }
    },
    {
      "cell_type": "code",
      "source": [
        "# Import the necessary libraries\n",
        "from google.cloud import storage\n",
        "from google.cloud import bigquery\n",
        "\n",
        "# First make connection to BigQuery\n",
        "# Replace 'your-project-id' with your Google Cloud project ID\n",
        "# Replace 'your-dataset-name' with your dataset name\n",
        "project_id = \"your-project-id\"\n",
        "dataset_name = \"your-dataset-name\"\n",
        "table_name = \"restaurant_checkin\" # if you make changes previously, then here you need to make according change\n",
        "\n",
        "bigquery_client = bigquery.Client(project=project_id)"
      ],
      "metadata": {
        "id": "ekYMS9Rg_dXG"
      },
      "execution_count": null,
      "outputs": []
    },
    {
      "cell_type": "code",
      "source": [
        "# Query all data from the table\n",
        "query = f\"\"\"\n",
        "    SELECT *\n",
        "    FROM `{project_id}.{dataset_name}.{table_name}`\n",
        "\"\"\"\n",
        "\n",
        "query_job = bigquery_client.query(query)\n",
        "results = query_job.result()\n",
        "\n",
        "checkin_df = query_job.to_dataframe()\n",
        "checkin_df.head()"
      ],
      "metadata": {
        "id": "aY_ZMFeg_kox"
      },
      "execution_count": null,
      "outputs": []
    },
    {
      "cell_type": "code",
      "source": [
        "# Query data from selected columns from the table\n",
        "query = f\"\"\"\n",
        "    SELECT business_id, total_number_of_checkin, year, month, day, hour\n",
        "    FROM `{project_id}.{dataset_name}.{table_name}`\n",
        "\"\"\"\n",
        "\n",
        "query_job = bigquery_client.query(query)\n",
        "results = query_job.result()\n",
        "\n",
        "checkin_df = query_job.to_dataframe()\n",
        "checkin_df.head()"
      ],
      "metadata": {
        "id": "EQre-IqL_koy"
      },
      "execution_count": null,
      "outputs": []
    },
    {
      "cell_type": "code",
      "source": [
        "# Query data based on condition from the table\n",
        "query = f\"\"\"\n",
        "    SELECT *\n",
        "    FROM `{project_id}.{dataset_name}.{table_name}`\n",
        "    WHERE year >=2020\n",
        "\"\"\"\n",
        "\n",
        "query_job = bigquery_client.query(query)\n",
        "results = query_job.result()\n",
        "\n",
        "restaurant_df = query_job.to_dataframe()\n",
        "restaurant_df.head()"
      ],
      "metadata": {
        "id": "ZnKm2YXG_koz"
      },
      "execution_count": null,
      "outputs": []
    },
    {
      "cell_type": "markdown",
      "source": [
        "### Query data from restaurant tips data file (examples)"
      ],
      "metadata": {
        "id": "pYSHr4FZAonZ"
      }
    },
    {
      "cell_type": "code",
      "source": [
        "# Import the necessary libraries\n",
        "from google.cloud import storage\n",
        "from google.cloud import bigquery\n",
        "\n",
        "# First make connection to BigQuery\n",
        "# Replace 'your-project-id' with your Google Cloud project ID\n",
        "# Replace 'your-dataset-name' with your dataset name\n",
        "project_id = \"your-project-id\"\n",
        "dataset_name = \"your-dataset-name\"\n",
        "table_name = \"restaurant_tips\" # if you make changes previously, then here you need to make according change\n",
        "\n",
        "bigquery_client = bigquery.Client(project=project_id)"
      ],
      "metadata": {
        "id": "9hjb3ta0Aonb"
      },
      "execution_count": null,
      "outputs": []
    },
    {
      "cell_type": "code",
      "source": [
        "# Query all data from the table\n",
        "query = f\"\"\"\n",
        "    SELECT *\n",
        "    FROM `{project_id}.{dataset_name}.{table_name}`\n",
        "\"\"\"\n",
        "\n",
        "query_job = bigquery_client.query(query)\n",
        "results = query_job.result()\n",
        "\n",
        "checkin_df = query_job.to_dataframe()\n",
        "checkin_df.head()"
      ],
      "metadata": {
        "id": "IOHoyblhAonb"
      },
      "execution_count": null,
      "outputs": []
    },
    {
      "cell_type": "code",
      "source": [
        "# Query data from selected columns from the table\n",
        "query = f\"\"\"\n",
        "    SELECT user_id, business_id, text,date\n",
        "    FROM `{project_id}.{dataset_name}.{table_name}`\n",
        "\"\"\"\n",
        "\n",
        "query_job = bigquery_client.query(query)\n",
        "results = query_job.result()\n",
        "\n",
        "checkin_df = query_job.to_dataframe()\n",
        "checkin_df.head()"
      ],
      "metadata": {
        "id": "_vj0L_2NAonb"
      },
      "execution_count": null,
      "outputs": []
    },
    {
      "cell_type": "code",
      "source": [
        "# Query data based on condition from the table\n",
        "query = f\"\"\"\n",
        "    SELECT user_id, business_id, text, date\n",
        "    FROM `{project_id}.{dataset_name}.{table_name}`\n",
        "    WHERE EXTRACT(YEAR from date)>2020\n",
        "\"\"\"\n",
        "\n",
        "query_job = bigquery_client.query(query)\n",
        "results = query_job.result()\n",
        "\n",
        "checkin_df = query_job.to_dataframe()\n",
        "checkin_df.head()"
      ],
      "metadata": {
        "id": "uxaEhfRWAonb"
      },
      "execution_count": null,
      "outputs": []
    },
    {
      "cell_type": "markdown",
      "source": [
        "### Joining tables through SQL query (example)"
      ],
      "metadata": {
        "id": "3JFlIQN-E0Vc"
      }
    },
    {
      "cell_type": "code",
      "source": [
        "# Import the necessary libraries\n",
        "from google.cloud import storage\n",
        "from google.cloud import bigquery\n",
        "\n",
        "# First make connection to BigQuery\n",
        "# Replace 'your-project-id' with your Google Cloud project ID\n",
        "# Replace 'your-dataset-name' with your dataset name\n",
        "project_id = \"your-project-id\"\n",
        "dataset_name = \"your-dataset-name\"\n",
        "table_1 = \"restaurant_data\"\n",
        "table_2 = \"restaurant_checkin\"\n",
        "table_3 = \"restaurant_tips\"\n",
        "\n",
        "bigquery_client = bigquery.Client(project=project_id)"
      ],
      "metadata": {
        "id": "GFDcC3UME6LQ"
      },
      "execution_count": null,
      "outputs": []
    },
    {
      "cell_type": "code",
      "source": [
        "# Adding restaurant information to checkin data by joining 'restaurant_checkin' and 'restaurant_data'\n",
        "query = f\"\"\"\n",
        "    SELECT r.business_id, r.name, r.address, r.city, r.state, r.stars, r.review_count, r.is_open, r.categories,c.business_id, c.total_number_of_checkin, c.year, c.month, c.day, c.hour\n",
        "    FROM `{project_id}.{dataset_name}.{table_2}` AS c\n",
        "    JOIN `{project_id}.{dataset_name}.{table_1}` AS r on r.business_id = c.business_id\n",
        "    WHERE c.year >=2020\n",
        "\"\"\"\n",
        "\n",
        "query_job = bigquery_client.query(query)\n",
        "results = query_job.result()\n",
        "\n",
        "join_df = query_job.to_dataframe()\n",
        "join_df.head()"
      ],
      "metadata": {
        "id": "hHjmyWYkGYT-"
      },
      "execution_count": null,
      "outputs": []
    },
    {
      "cell_type": "markdown",
      "source": [
        "When joining, be careful of one-to-many. In restaurant data there are information for each restaurant, but in checkin and tips data there are multiple records for one single restaurants. Thus, it is better to use checkin or tips data to join restaurant data. If you do the opposite, you might have error and query incomplete data.\n",
        "\n",
        "If you are just not familiar with SQL, you can just query dataset one by one and then use Python to merge or join them if you need."
      ],
      "metadata": {
        "id": "Kv98i4LsJYq7"
      }
    },
    {
      "cell_type": "markdown",
      "source": [
        "# **Data processing and data analysis**"
      ],
      "metadata": {
        "id": "btmLRB-sDajy"
      }
    },
    {
      "cell_type": "markdown",
      "source": [
        "Since the query data is converted into dataframe, you can easily use Python to do analysis or modelling. This is up to you how you would do."
      ],
      "metadata": {
        "id": "ZDxLpLmiDfXX"
      }
    },
    {
      "cell_type": "markdown",
      "source": [
        "# **Store the transformed data back to BigQuery for visualisation**\n",
        "\n",
        "We know data visualisation requires clean data and if we read data directly in Tableau it might crash because the data size is large and the data might messy.\n",
        "\n",
        "You could consider using Python to clean and process your data and then you can store the transformed data table back to BigQuery and then you can make connections to the transformed table in Tableau to do visualisation."
      ],
      "metadata": {
        "id": "FT4eY2eED0cR"
      }
    },
    {
      "cell_type": "code",
      "source": [
        "# First, ensure pandas-gbq is installed\n",
        "# !pip install pandas-gbq\n",
        "\n",
        "# Specify the destination table and dataset in BigQuery\n",
        "# Replace 'you_dataset_name' with your dataset name where you are sending the new table to\n",
        "# Replace 'new_table_name' with a name you would like to give to your table\n",
        "# Replace 'your-project-id' with your project id\n",
        "destination_table = 'restaurant_dataset.transformed_restaurant_df'\n",
        "project_id = 'big-synthesizer-421522'\n",
        "\n",
        "# Use the to_gbq function to upload the DataFrame (after data processing) to BigQuery\n",
        "restaurant_df.to_gbq(destination_table, project_id=project_id, if_exists='replace', progress_bar=True)"
      ],
      "metadata": {
        "id": "Nz8UQpOS6kLK",
        "colab": {
          "base_uri": "https://localhost:8080/"
        },
        "outputId": "13f9d720-d6f3-4e74-fa4a-f131472ecb88"
      },
      "execution_count": null,
      "outputs": [
        {
          "output_type": "stream",
          "name": "stderr",
          "text": [
            "100%|██████████| 1/1 [00:00<00:00, 4718.00it/s]\n"
          ]
        }
      ]
    },
    {
      "cell_type": "markdown",
      "source": [
        "By running the above code, you should be able to see there is a new table uploaded to BigQuery under your dataset."
      ],
      "metadata": {
        "id": "QMfg5xAeEcfB"
      }
    },
    {
      "cell_type": "markdown",
      "source": [
        "Next, you can consider using Tableau for some visual analysis:)"
      ],
      "metadata": {
        "id": "oXCLCpRnEmOh"
      }
    },
    {
      "cell_type": "markdown",
      "source": [
        "Let me know if you have further questions."
      ],
      "metadata": {
        "id": "QONTdMpeEuFW"
      }
    }
  ]
}